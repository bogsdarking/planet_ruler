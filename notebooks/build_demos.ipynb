{
 "cells": [
  {
   "cell_type": "code",
   "execution_count": 1,
   "id": "1cc6c4b9-677d-4ca8-bc6e-403c002e7222",
   "metadata": {},
   "outputs": [],
   "source": [
    "import json"
   ]
  },
  {
   "cell_type": "code",
   "execution_count": null,
   "id": "e87984d6-a8d4-4891-9d33-419e1a7f976d",
   "metadata": {},
   "outputs": [],
   "source": [
    "pluto_limb = {'g': 1e5, 'steps': 100000, 'smoothing_window': 100,\n",
    "               'k': 0, 'tilt': 0.2, 'm': 8e4, 'friction': 0.1}\n",
    "with open('../config/pluto_limb_1.json', 'w') as f:\n",
    "    json.dump(pluto_limb, f)\n",
    "    \n",
    "saturn_limb_2 = {'g': 1e5, 'steps': 50000, 'smoothing_window': 100,\n",
    "                 'k': 0.8, 'tilt': 0.09, 'm': 8e4, 'friction': 0.07}\n",
    "with open('../config/saturn_limb_2.json', 'w') as f:\n",
    "    json.dump(saturn_limb_2, f)\n",
    "    \n",
    "saturn_limb_1 = {'g': 1e5, 'steps': 50000, 'smoothing_window': 100,\n",
    "                 'k': 0, 'tilt': 0.2, 'm': 9e4, 'friction': 0.1}\n",
    "with open('../config/saturn_limb_1.json', 'w') as f:\n",
    "    json.dump(saturn_limb_1, f)"
   ]
  }
 ],
 "metadata": {
  "kernelspec": {
   "display_name": "Python 3 (ipykernel)",
   "language": "python",
   "name": "python3"
  },
  "language_info": {
   "codemirror_mode": {
    "name": "ipython",
    "version": 3
   },
   "file_extension": ".py",
   "mimetype": "text/x-python",
   "name": "python",
   "nbconvert_exporter": "python",
   "pygments_lexer": "ipython3",
   "version": "3.12.7"
  }
 },
 "nbformat": 4,
 "nbformat_minor": 5
}
