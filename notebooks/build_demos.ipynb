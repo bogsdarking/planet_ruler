{
 "cells": [
  {
   "cell_type": "code",
   "execution_count": 1,
   "id": "1cc6c4b9-677d-4ca8-bc6e-403c002e7222",
   "metadata": {},
   "outputs": [],
   "source": [
    "import json\n",
    "from PIL import Image\n",
    "import glob"
   ]
  },
  {
   "cell_type": "code",
   "execution_count": 23,
   "id": "e87984d6-a8d4-4891-9d33-419e1a7f976d",
   "metadata": {},
   "outputs": [],
   "source": [
    "pluto_limb = {'g': 100000, 'steps': 200000, 'smoothing_window': 100,\n",
    "               'k': 0.5, 'tilt': 0.1, 'm': 8e4, 'friction': 0.2}\n",
    "with open('../config/pluto_limb_1.json', 'w') as f:\n",
    "    json.dump(pluto_limb, f)\n",
    "    \n",
    "saturn_limb_2 = {'g': 100000, 'steps': 200000, 'smoothing_window': 5,\n",
    "                 'k': 0.8, 'tilt': 0.2, 'm': 6e4, 'friction': 0.1, 'max_vel': 2}\n",
    "with open('../config/saturn_limb_2.json', 'w') as f:\n",
    "    json.dump(saturn_limb_2, f)\n",
    "    \n",
    "saturn_limb_1 = {'g': 1e5, 'steps': 50000, 'smoothing_window': 100,\n",
    "                 'k': 0, 'tilt': 0.2, 'm': 9e4, 'friction': 0.1}\n",
    "with open('../config/saturn_limb_1.json', 'w') as f:\n",
    "    json.dump(saturn_limb_1, f)"
   ]
  },
  {
   "cell_type": "code",
   "execution_count": null,
   "id": "fe344b39-5876-4ae6-b821-e65e8d063067",
   "metadata": {},
   "outputs": [],
   "source": [
    "files = [\n",
    " '../demo/images/cartoon_zoom_1.png',\n",
    " '../demo/images/cartoon_zoom_10.png',\n",
    " '../demo/images/cartoon_zoom_100.png',\n",
    " '../demo/images/cartoon_zoom_14463.png',\n",
    "]\n",
    "\n",
    "fig, axes = plt.subplots(2, 2, figsize=(10, 10), sharex=True, sharey=True)\n",
    "for i in range(4):\n",
    "    img = Image.open(files[i])\n",
    "    im_arr = np.array(img)\n",
    "    np.ravel(axes)[i].imshow(im_arr)\n",
    "    np.ravel(axes)[i].axis('off')\n",
    "plt.subplots_adjust(wspace=0, hspace=0)\n",
    "plt.savefig('../demo/images/cartoon_medley.png', bbox_inches='tight')\n",
    "plt.show()"
   ]
  }
 ],
 "metadata": {
  "kernelspec": {
   "display_name": "Python 3 (ipykernel)",
   "language": "python",
   "name": "python3"
  },
  "language_info": {
   "codemirror_mode": {
    "name": "ipython",
    "version": 3
   },
   "file_extension": ".py",
   "mimetype": "text/x-python",
   "name": "python",
   "nbconvert_exporter": "python",
   "pygments_lexer": "ipython3",
   "version": "3.12.7"
  }
 },
 "nbformat": 4,
 "nbformat_minor": 5
}
