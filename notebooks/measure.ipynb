{
 "cells": [
  {
   "cell_type": "code",
   "execution_count": null,
   "id": "078c0dfe",
   "metadata": {},
   "outputs": [],
   "source": [
    "import planet_ruler.observation as pro\n",
    "from planet_ruler.camera import create_config_from_image\n",
    "from planet_ruler.plot import plot_3d_solution\n",
    "import numpy as np"
   ]
  },
  {
   "cell_type": "code",
   "execution_count": null,
   "id": "420a5420",
   "metadata": {},
   "outputs": [],
   "source": [
    "image_path = \"../demo/images/2013-08-05_22-42-14_Wikimania.jpg\""
   ]
  },
  {
   "cell_type": "code",
   "execution_count": null,
   "id": "5ef70fe0",
   "metadata": {},
   "outputs": [],
   "source": [
    "camera_params = create_config_from_image(\n",
    "    image_path=image_path, altitude_m=30000, planet=\"earth\"\n",
    ")\n",
    "camera_params"
   ]
  },
  {
   "cell_type": "code",
   "execution_count": null,
   "id": "5cef0d3d",
   "metadata": {},
   "outputs": [],
   "source": [
    "Obs = pro.LimbObservation(image_filepath=image_path, fit_config=camera_params)"
   ]
  },
  {
   "cell_type": "code",
   "execution_count": null,
   "id": "03987af3",
   "metadata": {},
   "outputs": [],
   "source": [
    "Obs.limb_detection = \"manual\"\n",
    "Obs.detect_limb()"
   ]
  },
  {
   "cell_type": "code",
   "execution_count": null,
   "id": "fb52de39",
   "metadata": {},
   "outputs": [],
   "source": [
    "Obs.fit_limb(max_iter=15000, n_jobs=6, seed=0)"
   ]
  },
  {
   "cell_type": "code",
   "execution_count": null,
   "id": "2906f980",
   "metadata": {},
   "outputs": [],
   "source": [
    "Obs.plot()\n",
    "plot_3d_solution(**Obs.best_parameters)"
   ]
  },
  {
   "cell_type": "code",
   "execution_count": null,
   "id": "7b4b11ac",
   "metadata": {},
   "outputs": [],
   "source": [
    "pro.plot_diff_evol_posteriors(Obs, show_points=True)"
   ]
  },
  {
   "cell_type": "code",
   "execution_count": null,
   "id": "856e344d",
   "metadata": {},
   "outputs": [],
   "source": [
    "final_params = Obs.init_parameter_values.copy()\n",
    "final_params.update(Obs.best_parameters)\n",
    "fitted_radius = final_params[\"r\"] / 1000\n",
    "fit_population = pro.unpack_diff_evol_posteriors(Obs)\n",
    "fine_uncertainty = fit_population[\"r\"].std() / 1000\n",
    "rough_uncertainty = np.ptp(fit_population[\"r\"]) / 1000\n",
    "pct_error = (fitted_radius - 6371) / 6371 * 100\n",
    "\n",
    "print(\n",
    "    f\"Our estimate of Earth's radius is{fitted_radius: .1f} \\u00b1{rough_uncertainty: .0f} kilometers.\"\n",
    ")\n",
    "\n",
    "print(f\"That puts us {pct_error: .1f}% away from the true value of {6371} km.\")"
   ]
  }
 ],
 "metadata": {
  "kernelspec": {
   "display_name": "Python (planet_ruler)",
   "language": "python",
   "name": "planet_ruler"
  },
  "language_info": {
   "codemirror_mode": {
    "name": "ipython",
    "version": 3
   },
   "file_extension": ".py",
   "mimetype": "text/x-python",
   "name": "python",
   "nbconvert_exporter": "python",
   "pygments_lexer": "ipython3",
   "version": "3.12.2"
  }
 },
 "nbformat": 4,
 "nbformat_minor": 5
}
